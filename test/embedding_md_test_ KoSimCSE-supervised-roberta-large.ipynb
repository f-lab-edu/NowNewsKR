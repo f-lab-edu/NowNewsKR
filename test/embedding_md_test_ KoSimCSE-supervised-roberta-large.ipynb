{
 "cells": [
  {
   "cell_type": "markdown",
   "metadata": {},
   "source": [
    "## Embedding model 의 문장 유사도 테스트\n",
    "### [KoSimCSE-supervised-roberta-large](https://huggingface.co/daekeun-ml/KoSimCSE-supervised-roberta-large)"
   ]
  },
  {
   "cell_type": "code",
   "execution_count": 1,
   "metadata": {},
   "outputs": [
    {
     "name": "stderr",
     "output_type": "stream",
     "text": [
      "/opt/homebrew/Caskroom/miniforge/base/envs/embedding_test/lib/python3.11/site-packages/tqdm/auto.py:21: TqdmWarning: IProgress not found. Please update jupyter and ipywidgets. See https://ipywidgets.readthedocs.io/en/stable/user_install.html\n",
      "  from .autonotebook import tqdm as notebook_tqdm\n",
      "config.json: 100%|██████████| 582/582 [00:00<00:00, 1.06MB/s]\n",
      "model.safetensors: 100%|██████████| 1.35G/1.35G [01:04<00:00, 20.9MB/s]\n",
      "config.json: 100%|██████████| 547/547 [00:00<00:00, 1.35MB/s]\n",
      "model.safetensors: 100%|██████████| 1.35G/1.35G [00:24<00:00, 54.2MB/s]\n",
      "Some weights of RobertaModel were not initialized from the model checkpoint at klue/roberta-large and are newly initialized: ['roberta.pooler.dense.bias', 'roberta.pooler.dense.weight']\n",
      "You should probably TRAIN this model on a down-stream task to be able to use it for predictions and inference.\n",
      "tokenizer_config.json: 100%|██████████| 415/415 [00:00<00:00, 561kB/s]\n",
      "vocab.txt: 100%|██████████| 248k/248k [00:00<00:00, 507kB/s]\n",
      "tokenizer.json: 100%|██████████| 752k/752k [00:00<00:00, 998kB/s] \n",
      "special_tokens_map.json: 100%|██████████| 173/173 [00:00<00:00, 797kB/s]\n"
     ]
    },
    {
     "name": "stdout",
     "output_type": "stream",
     "text": [
      "tensor([[92.9861]], grad_fn=<MulBackward0>) tensor([[83.0575]], grad_fn=<MulBackward0>)\n"
     ]
    }
   ],
   "source": [
    "import torch\n",
    "import torch.nn as nn\n",
    "import torch.nn.functional as F\n",
    "from torch import Tensor\n",
    "from transformers import AutoConfig, PretrainedConfig, PreTrainedModel\n",
    "from transformers import AutoModel, AutoTokenizer, logging\n",
    "\n",
    "class SimCSEConfig(PretrainedConfig):\n",
    "    def __init__(self, version=1.0, **kwargs):\n",
    "        self.version = version\n",
    "        super().__init__(**kwargs)\n",
    "\n",
    "class SimCSEModel(PreTrainedModel):\n",
    "    config_class = SimCSEConfig\n",
    "\n",
    "    def __init__(self, config):\n",
    "        super().__init__(config)\n",
    "        self.backbone = AutoModel.from_pretrained(config.base_model)\n",
    "        self.hidden_size: int = self.backbone.config.hidden_size\n",
    "        self.dense = nn.Linear(self.hidden_size, self.hidden_size)\n",
    "        self.activation = nn.Tanh()\n",
    "\n",
    "    def forward(\n",
    "        self,\n",
    "        input_ids: Tensor,\n",
    "        attention_mask: Tensor = None,\n",
    "        # RoBERTa variants don't have token_type_ids, so this argument is optional\n",
    "        token_type_ids: Tensor = None,\n",
    "    ) -> Tensor:\n",
    "        # shape of input_ids: (batch_size, seq_len)\n",
    "        # shape of attention_mask: (batch_size, seq_len)\n",
    "        outputs: BaseModelOutputWithPoolingAndCrossAttentions = self.backbone(\n",
    "            input_ids=input_ids,\n",
    "            attention_mask=attention_mask,\n",
    "            token_type_ids=token_type_ids,\n",
    "        )\n",
    "\n",
    "        emb = outputs.last_hidden_state[:, 0]\n",
    "\n",
    "        if self.training:\n",
    "            emb = self.dense(emb)\n",
    "            emb = self.activation(emb)\n",
    "\n",
    "        return emb\n",
    "\n",
    "# Load pre-trained model\n",
    "model = SimCSEModel.from_pretrained(\"daekeun-ml/KoSimCSE-supervised-roberta-large\")\n",
    "tokenizer = AutoTokenizer.from_pretrained(\"daekeun-ml/KoSimCSE-supervised-roberta-large\")\n"
   ]
  },
  {
   "cell_type": "code",
   "execution_count": 3,
   "metadata": {},
   "outputs": [],
   "source": [
    "def show_embedding_score(tokenizer, model, sentences):\n",
    "    inputs = tokenizer(sentences, padding=True, truncation=True, return_tensors=\"pt\")\n",
    "    embeddings = model(**inputs)\n",
    "    score01 = cal_score(embeddings[0,:], embeddings[1,:])\n",
    "    score02 = cal_score(embeddings[0,:], embeddings[2,:])\n",
    "    score03 = cal_score(embeddings[1,:], embeddings[2,:])\n",
    "    \n",
    "    score = [score01, score02, score03 ]\n",
    "    max_score = max(score).item()\n",
    "    max_score_idx = score.index(max(score))\n",
    "    print(score01.item(), score02.item(), score03.item())\n",
    "    if max_score_idx == 0:\n",
    "        print(f\"1,2번 문장이 {max_score}로 가장 유사합니다.\")\n",
    "    elif max_score_idx == 1:  \n",
    "        print(f\"1,3번 문장이 {max_score}로 가장 유사합니다.\")\n",
    "    else:    \n",
    "        print(f\"2,3번 문장이 {max_score}로 가장 유사합니다.\") \n",
    "\n",
    "def cal_score(a, b):\n",
    "    if len(a.shape) == 1: a = a.unsqueeze(0)\n",
    "    if len(b.shape) == 1: b = b.unsqueeze(0)\n",
    "    a_norm = a / a.norm(dim=1)[:, None]\n",
    "    b_norm = b / b.norm(dim=1)[:, None]\n",
    "    return torch.mm(a_norm, b_norm.transpose(0, 1)) * 100 "
   ]
  },
  {
   "cell_type": "code",
   "execution_count": 4,
   "metadata": {},
   "outputs": [
    {
     "name": "stdout",
     "output_type": "stream",
     "text": [
      "92.98614501953125 83.0574722290039 77.81117248535156\n",
      "1,2번 문장이 92.98614501953125로 가장 유사합니다.\n"
     ]
    }
   ],
   "source": [
    "# Inference example\n",
    "sentences = ['이번 주 일요일에 분당 이마트 점은 문을 여나요?',\n",
    "             '일요일에 분당 이마트는 문 열어요?',\n",
    "             '분당 이마트 점은 토요일에 몇 시까지 하나요']\n",
    "\n",
    "show_embedding_score(tokenizer, model.cpu(), sentences)\n"
   ]
  },
  {
   "cell_type": "code",
   "execution_count": null,
   "metadata": {},
   "outputs": [],
   "source": []
  }
 ],
 "metadata": {
  "kernelspec": {
   "display_name": "embedding_test",
   "language": "python",
   "name": "python3"
  },
  "language_info": {
   "codemirror_mode": {
    "name": "ipython",
    "version": 3
   },
   "file_extension": ".py",
   "mimetype": "text/x-python",
   "name": "python",
   "nbconvert_exporter": "python",
   "pygments_lexer": "ipython3",
   "version": "3.11.5"
  }
 },
 "nbformat": 4,
 "nbformat_minor": 2
}
