{
 "cells": [
  {
   "cell_type": "markdown",
   "metadata": {},
   "source": [
    "## Embedding model 의 문장 유사도 테스트\n",
    "### [KoSimCSE-roberta](https://huggingface.co/BM-K/KoSimCSE-roberta)"
   ]
  },
  {
   "cell_type": "code",
   "execution_count": 20,
   "metadata": {},
   "outputs": [],
   "source": [
    "import torch\n",
    "from transformers import AutoModel, AutoTokenizer\n",
    "\n",
    "def cal_score(a, b):\n",
    "    if len(a.shape) == 1: a = a.unsqueeze(0)\n",
    "    if len(b.shape) == 1: b = b.unsqueeze(0)\n",
    "\n",
    "    a_norm = a / a.norm(dim=1)[:, None]\n",
    "    b_norm = b / b.norm(dim=1)[:, None]\n",
    "    return torch.mm(a_norm, b_norm.transpose(0, 1)) * 100\n",
    "\n",
    "model = AutoModel.from_pretrained('BM-K/KoSimCSE-roberta')\n",
    "tokenizer = AutoTokenizer.from_pretrained('BM-K/KoSimCSE-roberta')"
   ]
  },
  {
   "cell_type": "code",
   "execution_count": 21,
   "metadata": {},
   "outputs": [],
   "source": [
    "def embedding_similarity(model, tokenizer, sentences):\n",
    "    inputs = tokenizer(sentences, padding=True, truncation=True, return_tensors=\"pt\")\n",
    "    embeddings, _ = model(**inputs, return_dict=False)\n",
    "\n",
    "    score01 = cal_score(embeddings[0][0], embeddings[1][0])\n",
    "    score02 = cal_score(embeddings[0][0], embeddings[2][0])\n",
    "    score03 = cal_score(embeddings[1][0], embeddings[2][0])\n",
    "    \n",
    "    score = [score01, score02, score03 ]\n",
    "    max_score = max(score).item()\n",
    "    max_score_idx = score.index(max(score))\n",
    "    print(score01.item(), score02.item(), score03.item())\n",
    "    if max_score_idx == 0:\n",
    "        print(f\"1,2번 문장이 {max_score}로 가장 유사합니다.\")\n",
    "    elif max_score_idx == 1:  \n",
    "        print(f\"1,3번 문장이 {max_score}로 가장 유사합니다.\")\n",
    "    else:    \n",
    "        print(f\"2,3번 문장이 {max_score}로 가장 유사합니다.\") \n",
    "\n",
    "    return "
   ]
  },
  {
   "cell_type": "code",
   "execution_count": 22,
   "metadata": {},
   "outputs": [
    {
     "name": "stdout",
     "output_type": "stream",
     "text": [
      "73.72628021240234 18.873348236083984 17.086091995239258\n",
      "1,2번 문장이 73.72628021240234로 가장 유사합니다.\n"
     ]
    }
   ],
   "source": [
    "sentences = ['치타가 들판을 가로 질러 먹이를 쫓는다.',\n",
    "             '치타 한 마리가 먹이 뒤에서 달리고 있다.',\n",
    "             '원숭이 한 마리가 드럼을 연주한다.']\n",
    "embedding_similarity(model, tokenizer, sentences)"
   ]
  },
  {
   "cell_type": "code",
   "execution_count": null,
   "metadata": {},
   "outputs": [],
   "source": []
  }
 ],
 "metadata": {
  "kernelspec": {
   "display_name": "Python 3",
   "language": "python",
   "name": "python3"
  },
  "language_info": {
   "codemirror_mode": {
    "name": "ipython",
    "version": 3
   },
   "file_extension": ".py",
   "mimetype": "text/x-python",
   "name": "python",
   "nbconvert_exporter": "python",
   "pygments_lexer": "ipython3",
   "version": "3.11.5"
  }
 },
 "nbformat": 4,
 "nbformat_minor": 2
}
